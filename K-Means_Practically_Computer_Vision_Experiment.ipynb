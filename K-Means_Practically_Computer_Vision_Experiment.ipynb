{
 "cells": [
  {
   "cell_type": "markdown",
   "metadata": {},
   "source": [
    "# K-Means Clustering - Comparing with Theory in Computer Vision\n",
    "Source: Computer Vision Meeting - Chapter 3. Episode. 2 - 3"
   ]
  },
  {
   "cell_type": "markdown",
   "metadata": {},
   "source": [
    "# Step 1: Get Data:\n",
    "The first step is to prepare or generate the data. In this dataset, the observations only have two features, but K-Means can be used with any number of features. Since this is an unsupervised example, it is not necessary to have a \"target\" column.\n",
    "\n",
    "================================="
   ]
  },
  {
   "cell_type": "markdown",
   "metadata": {},
   "source": [
    "here, I will use several libraries that we need to do some functions"
   ]
  },
  {
   "cell_type": "code",
   "execution_count": 1,
   "metadata": {},
   "outputs": [],
   "source": [
    "from sklearn.cluster import KMeans\n",
    "import pandas as pd\n",
    "import matplotlib.pyplot as plt\n",
    "from matplotlib import style\n",
    "style.use(\"ggplot\")\n",
    "%matplotlib inline"
   ]
  },
  {
   "cell_type": "markdown",
   "metadata": {},
   "source": [
    "Let's choose number from 0-100.\n",
    "\n",
    "From 7 student's we got [7, 10, 13, 29, 48, 94, 99] ==> define those in the coloum.\n",
    "\n",
    "Then assume that the second coloum has same value, let say it is \"1.0\""
   ]
  },
  {
   "cell_type": "code",
   "execution_count": 2,
   "metadata": {},
   "outputs": [
    {
     "name": "stdout",
     "output_type": "stream",
     "text": [
      "      x    y\n",
      "0   7.0  1.0\n",
      "1  10.0  1.0\n",
      "2  13.0  1.0\n",
      "3  29.0  1.0\n",
      "4  48.0  1.0\n",
      "5  94.0  1.0\n",
      "6  99.0  1.0\n"
     ]
    }
   ],
   "source": [
    "data = pd.DataFrame([[7.0, 1.0],\n",
    "              [10.0, 1.0],\n",
    "              [13.0, 1.0],\n",
    "              [29.0, 1.0],\n",
    "              [48.0, 1.0],\n",
    "              [94.0, 1.0],\n",
    "                [99.0, 1.0]], columns=['x','y'])\n",
    "print( data )"
   ]
  },
  {
   "cell_type": "markdown",
   "metadata": {},
   "source": [
    "# Step 2: Build the Model:\n",
    "Much like the supervised models, you first create the model then call the .fit() method using your data source. The model is now populated with both your centroids and labels. These can be accessed via the .cluster_centers_ and labels_ properties respectively.\n",
    "\n",
    "You can view the complete documentation here: http://scikit-learn.org/stable/modules/generated/sklearn.cluster.KMeans.html\n",
    "\n",
    "K-Means also has a .predict() method which can be used to predict the label for an observation.\n",
    "\n",
    "=================================="
   ]
  },
  {
   "cell_type": "markdown",
   "metadata": {},
   "source": [
    "Today, we wil create 3 clusters from the data we have collected from students\n",
    "Using K-Means we will get the centroids and we can see the members"
   ]
  },
  {
   "cell_type": "markdown",
   "metadata": {},
   "source": [
    "That data set is arranged in:\n",
    "\n",
    "i1, i2, i3, i4, i5, i6, i7\n",
    "\n",
    "------------------------------------------------\n",
    "\n",
    "100 is the highest number from 0-100\n",
    "So, we can get the range by : \n",
    "    100:3 = 33,33\n",
    "\n",
    "------------------------------------------------\n",
    "\n",
    "From, that range we will get the median of the group\n",
    "\n",
    "    i1 - i2 - i3 - i4 - i5 - i6 - i7\n",
    "    7    10   13   29   48   94   99\n",
    "\n",
    "   |--- 16 ---||--- 50 ---||--- 80 ---|\n",
    "   |--- µ1 ---||--- µ2 ---||--- µ3 ---|\n",
    "\n",
    "So, we obtain:\n",
    "µ1= 16\n",
    "µ2= 50\n",
    "µ3= 80\n",
    "\n",
    "------------------------------------------------\n",
    "Then, we have to do operation by subtracting:\n",
    "|in - µ1|, |in - µ2|, |in - µ3|\n",
    "\n",
    "So, we will get the operation bellow:\n",
    "\n",
    "|i1 - µ1|, |i1 - µ2|, |i1 - µ3|\n",
    "\n",
    "|i2 - µ1|, |i2 - µ2|, |i2 - µ3|\n",
    "\n",
    "|i3 - µ1|, |i3 - µ2|, |i3 - µ3|\n",
    "\n",
    "|i4 - µ1|, |i4 - µ2|, |i4 - µ3|\n",
    "\n",
    "|i5 - µ1|, |i5 - µ2|, |i5 - µ3|\n",
    "\n",
    "|i6 - µ1|, |i6 - µ2|, |i6 - µ3|\n",
    "\n",
    "|i7 - µ1|, |i7 - µ2|, |i7 - µ3|\n",
    "\n",
    "Okay, how's the result?\n",
    "\n",
    "|i1 - µ1|, |i1 - µ2|, |i1 - µ3|\n",
    "\n",
    "|07 - 16|, |07 - 50|, |07 - 80|\n",
    "\n",
    "| 09,0  |, | 43,0  |, |  76,3 |\n",
    "\n",
    "\n",
    "|i2 - µ1|, |i2 - µ2|, |i2 - µ3|\n",
    "\n",
    "|10 - 16|, |10 - 50|, |10 - 80|\n",
    "\n",
    "| 06,0  |, | 40,0  |, |  73,5 |\n",
    "\n",
    "\n",
    "|i3 - µ1|, |i3 - µ2|, |i3 - µ3|\n",
    "\n",
    "|13 - 16|, |13 - 50|, |13 - 80|\n",
    "\n",
    "| 03,0  |, | 37,0  |, |  70,5 |\n",
    "\n",
    "\n",
    "|i4 - µ1|, |i4 - µ2|, |i4 - µ3|\n",
    "\n",
    "|29 - 16|, |29 - 50|, |29 - 80|\n",
    "\n",
    "| 13,0  |, | 21,0  |, |  54,5 |\n",
    "\n",
    "\n",
    "|i5 - µ1|, |i5 - µ2|, |i5 - µ3|\n",
    "\n",
    "|48 - 16|, |48 - 50|, |48 - 80|\n",
    "\n",
    "| 32,0  |, | 02,0  |, |  35,5 |\n",
    "\n",
    "\n",
    "|i6 - µ1|, |i6 - µ2|, |i6 - µ3|\n",
    "\n",
    "|94 - 16|, |94 - 50|, |94 - 80|\n",
    "\n",
    "| 78,0  |, | 44,0  |, |  10,5 |\n",
    "\n",
    "\n",
    "|i7 - µ1|, |i7 - µ2|, |i7 - µ3|\n",
    "\n",
    "|94 - 16|, |94 - 50|, |94 - 80|\n",
    "\n",
    "| 83,0  |, | 49,0  |, |  15,5 |\n",
    "\n",
    "================================================"
   ]
  },
  {
   "cell_type": "code",
   "execution_count": 3,
   "metadata": {},
   "outputs": [
    {
     "name": "stdout",
     "output_type": "stream",
     "text": [
      "[[38.5  1. ]\n",
      " [96.5  1. ]\n",
      " [10.   1. ]]\n",
      "[2 2 2 0 0 1 1]\n"
     ]
    }
   ],
   "source": [
    "kmeans = KMeans(n_clusters=3).fit(data)\n",
    "\n",
    "centroids = kmeans.cluster_centers_\n",
    "labels = kmeans.labels_\n",
    "\n",
    "print(centroids)\n",
    "print(labels)"
   ]
  },
  {
   "cell_type": "markdown",
   "metadata": {},
   "source": [
    "# Visualizing the Clusters\n",
    "The code below visualizes the clusters."
   ]
  },
  {
   "cell_type": "code",
   "execution_count": 4,
   "metadata": {},
   "outputs": [
    {
     "data": {
      "image/png": "[encoded data removed]",
      "text/plain": [
       "<Figure size 432x288 with 1 Axes>"
      ]
     },
     "metadata": {
      "needs_background": "light"
     },
     "output_type": "display_data"
    },
    {
     "data": {
      "image/png": "[encoded data removed]",
      "text/plain": [
       "<Figure size 432x288 with 1 Axes>"
      ]
     },
     "metadata": {
      "needs_background": "light"
     },
     "output_type": "display_data"
    },
    {
     "data": {
      "image/png": "[encoded data removed]",
      "text/plain": [
       "<Figure size 432x288 with 1 Axes>"
      ]
     },
     "metadata": {
      "needs_background": "light"
     },
     "output_type": "display_data"
    }
   ],
   "source": [
    "#show the data sparately\n",
    "\n",
    "data['labels'] = labels\n",
    "\n",
    "#plt.plot(data, colors[data['labels'], markersize = 10)\n",
    "\n",
    "group1 = data[data['labels']==1].plot( kind='scatter', x='x', y='y', color='DarkGreen', label=\"Group 1\" )\n",
    "group2 = data[data['labels']==0].plot( kind='scatter', x='x', y='y', color='Brown', label=\"Group 2\" )\n",
    "group2 = data[data['labels']==2].plot( kind='scatter', x='x', y='y', color='Blue', label=\"Group 3\" )\n",
    "\n",
    "group1.legend(loc='upper center', bbox_to_anchor=(0.5, 1.05),ncol=3, fancybox=True, shadow=True)\n",
    "\n",
    "plt.show()"
   ]
  },
  {
   "cell_type": "markdown",
   "metadata": {},
   "source": [
    "Show the data generally in a frame"
   ]
  },
  {
   "cell_type": "code",
   "execution_count": 5,
   "metadata": {},
   "outputs": [
    {
     "data": {
      "image/png": "[encoded data removed]",
      "text/plain": [
       "<Figure size 432x288 with 1 Axes>"
      ]
     },
     "metadata": {
      "needs_background": "light"
     },
     "output_type": "display_data"
    }
   ],
   "source": [
    "\n",
    "\n",
    "data['labels'] = labels\n",
    "\n",
    "group1 = data[data['labels']==1].plot( kind='scatter', x='x', y='y', color='DarkGreen', label=\"Group 1\" )\n",
    "group2 = data[data['labels']==0].plot( kind='scatter', x='x', y='y', color='Brown', ax=group1, label=\"Group 2\" )\n",
    "group3 = data[data['labels']==2].plot( kind='scatter', x='x', y='y', color='Blue', ax=group2, label=\"Group 3\" )\n",
    "\n",
    "group1.legend(loc='upper center', bbox_to_anchor=(0.5, 1.05),ncol=3, fancybox=True, shadow=True)\n",
    "\n",
    "plt.show()"
   ]
  },
  {
   "cell_type": "markdown",
   "metadata": {},
   "source": [
    "Finally, let's see generally with centroids included"
   ]
  },
  {
   "cell_type": "code",
   "execution_count": 6,
   "metadata": {},
   "outputs": [
    {
     "data": {
      "image/png": "[encoded data removed]",
      "text/plain": [
       "<Figure size 432x288 with 1 Axes>"
      ]
     },
     "metadata": {
      "needs_background": "light"
     },
     "output_type": "display_data"
    }
   ],
   "source": [
    "\n",
    "data['labels'] = labels\n",
    "\n",
    "#plt.plot(data, colors[data['labels'], markersize = 10)\n",
    "\n",
    "group1 = data[data['labels']==1].plot( kind='scatter', x='x', y='y', color='DarkGreen', label=\"Group 1\" )\n",
    "group2 = data[data['labels']==0].plot( kind='scatter', x='x', y='y', color='Brown', ax=group1, label=\"Group 2\" )\n",
    "group3 = data[data['labels']==2].plot( kind='scatter', x='x', y='y', color='Blue', ax=group2, label=\"Group 3\" )\n",
    "\n",
    "group1.legend(loc='upper center', bbox_to_anchor=(0.5, 1.05),ncol=3, fancybox=True, shadow=True)\n",
    "plt.scatter(centroids[:, 0],centroids[:, 1], marker = \"x\", s=150, linewidths = 5, zorder = 10)\n",
    "\n",
    "plt.show()"
   ]
  },
  {
   "cell_type": "markdown",
   "metadata": {},
   "source": [
    "By using K-Means, we do not need to compute the number or data manually by hand beacuse it will need much time to do.\n",
    "\n",
    "So, we can obtain the cluster easily by using K-Means."
   ]
  },
  {
   "cell_type": "code",
   "execution_count": null,
   "metadata": {},
   "outputs": [],
   "source": []
  }
 ],
 "metadata": {
  "kernelspec": {
   "display_name": "Python 3",
   "language": "python",
   "name": "python3"
  },
  "language_info": {
   "codemirror_mode": {
    "name": "ipython",
    "version": 3
   },
   "file_extension": ".py",
   "mimetype": "text/x-python",
   "name": "python",
   "nbconvert_exporter": "python",
   "pygments_lexer": "ipython3",
   "version": "3.8.5"
  }
 },
 "nbformat": 4,
 "nbformat_minor": 4
}
